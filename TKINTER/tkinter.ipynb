{
 "cells": [
  {
   "cell_type": "code",
   "execution_count": 1,
   "id": "5875142c",
   "metadata": {},
   "outputs": [],
   "source": [
    "import tkinter as tk"
   ]
  },
  {
   "cell_type": "code",
   "execution_count": 2,
   "id": "8a825338",
   "metadata": {},
   "outputs": [
    {
     "data": {
      "text/plain": [
       "''"
      ]
     },
     "execution_count": 2,
     "metadata": {},
     "output_type": "execute_result"
    }
   ],
   "source": [
    "root = tk.Tk()\n",
    "root.title(\"simple Tkinter App\")\n",
    "root.geometry('200x100')"
   ]
  },
  {
   "cell_type": "code",
   "execution_count": 3,
   "id": "32bd67a2",
   "metadata": {},
   "outputs": [],
   "source": [
    "def say_hello():\n",
    "    print('hello,world!')\n",
    "    print('good bye')"
   ]
  },
  {
   "cell_type": "code",
   "execution_count": 4,
   "id": "f5be67ee",
   "metadata": {},
   "outputs": [],
   "source": [
    "hello_button = tk.Button(root,text='click me',command = say_hello)\n",
    "hello_button.pack(pady=20)"
   ]
  },
  {
   "cell_type": "code",
   "execution_count": null,
   "id": "62504f2f",
   "metadata": {},
   "outputs": [],
   "source": [
    "root.mainloop()"
   ]
  },
  {
   "cell_type": "code",
   "execution_count": null,
   "id": "5ccb3155",
   "metadata": {},
   "outputs": [
    {
     "name": "stdout",
     "output_type": "stream",
     "text": [
      "Hello, World!\n",
      "good bye\n",
      "Hello, World!\n",
      "good bye\n",
      "Hello, World!\n",
      "good bye\n"
     ]
    }
   ],
   "source": [
    "import tkinter as tk\n",
    "\n",
    "# Create the main application window\n",
    "root = tk.Tk()\n",
    "root.title(\"Simple Tkinter App\")\n",
    "root.geometry(\"200x100\")  # Set window size\n",
    "\n",
    "# Function to print \"Hello, World!\" in the console\n",
    "def say_hello():\n",
    "    print(\"Hello, World!\")\n",
    "    print('good bye')\n",
    "\n",
    "# Create a button that triggers the say_hello function\n",
    "hello_button = tk.Button(root, text=\"Click Me\", command=say_hello)\n",
    "hello_button.pack(pady=20)  # Pack the button into the window\n",
    "\n",
    "# Start the Tkinter event loop\n",
    "root.mainloop()"
   ]
  },
  {
   "cell_type": "code",
   "execution_count": 4,
   "id": "686b213d",
   "metadata": {},
   "outputs": [],
   "source": [
    "import tkinter as tk\n",
    "from tkinter import messagebox\n",
    "\n",
    "# Create the main application window\n",
    "root = tk.Tk()\n",
    "root.title(\"Greeting App\")\n",
    "root.geometry(\"300x200\")  # Set the size of the window\n",
    "# Function to display the greeting\n",
    "def greet():\n",
    "    name = name_entry.get()\n",
    "    if name:\n",
    "        messagebox.showinfo(\"Greeting\", f\"Hello, {name}!\")\n",
    "    else:\n",
    "        messagebox.showwarning(\"Input Error\", \"Please enter your name.\")\n",
    "\n",
    "# Create a label\n",
    "name_label = tk.Label(root, text=\"Enter your name:\")\n",
    "name_label.pack(pady=10)  # Padding around the widget\n",
    "\n",
    "# Create an entry box for user input\n",
    "name_entry = tk.Entry(root)\n",
    "name_entry.pack(pady=10)\n",
    "\n",
    "# Create a button that triggers the greet function\n",
    "greet_button = tk.Button(root, text=\"Greet\", command=greet)\n",
    "greet_button.pack(pady=10)\n",
    "\n",
    "# Start the Tkinter event loop\n",
    "root.mainloop()"
   ]
  },
  {
   "cell_type": "code",
   "execution_count": 2,
   "id": "bcf150ab",
   "metadata": {},
   "outputs": [],
   "source": [
    "from tkinter import *\n",
    "from tkinter import ttk\n",
    "root = Tk()\n",
    "frm = ttk.Frame(root, padding=10)\n",
    "frm.grid()\n",
    "ttk.Label(frm, text=\"Hello World!\").grid(column=0, row=0)\n",
    "ttk.Button(frm, text=\"Quit\", command=root.destroy).grid(column=1, row=0)\n",
    "root.mainloop()"
   ]
  },
  {
   "cell_type": "code",
   "execution_count": null,
   "id": "1867b835",
   "metadata": {},
   "outputs": [],
   "source": []
  }
 ],
 "metadata": {
  "kernelspec": {
   "display_name": "Python 3",
   "language": "python",
   "name": "python3"
  },
  "language_info": {
   "codemirror_mode": {
    "name": "ipython",
    "version": 3
   },
   "file_extension": ".py",
   "mimetype": "text/x-python",
   "name": "python",
   "nbconvert_exporter": "python",
   "pygments_lexer": "ipython3",
   "version": "3.13.2"
  }
 },
 "nbformat": 4,
 "nbformat_minor": 5
}
